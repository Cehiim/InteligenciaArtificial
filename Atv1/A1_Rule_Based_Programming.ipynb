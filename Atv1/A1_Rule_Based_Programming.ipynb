{
  "nbformat": 4,
  "nbformat_minor": 0,
  "metadata": {
    "kernelspec": {
      "display_name": "Python 3",
      "language": "python",
      "name": "python3"
    },
    "language_info": {
      "codemirror_mode": {
        "name": "ipython",
        "version": 3
      },
      "file_extension": ".py",
      "mimetype": "text/x-python",
      "name": "python",
      "nbconvert_exporter": "python",
      "pygments_lexer": "ipython3",
      "version": "3.7.4"
    },
    "colab": {
      "provenance": [],
      "include_colab_link": true
    }
  },
  "cells": [
    {
      "cell_type": "markdown",
      "metadata": {
        "id": "view-in-github",
        "colab_type": "text"
      },
      "source": [
        "<a href=\"https://colab.research.google.com/github/Cehiim/InteligenciaArtificial/blob/main/Atv1/A1_Rule_Based_Programming.ipynb\" target=\"_parent\"><img src=\"https://colab.research.google.com/assets/colab-badge.svg\" alt=\"Open In Colab\"/></a>"
      ]
    },
    {
      "cell_type": "markdown",
      "metadata": {
        "id": "40b90843"
      },
      "source": [
        "<img src=\"http://meusite.mackenzie.br/rogerio/mackenzie_logo/UPM.2_horizontal_vermelho.jpg\"  width=300, align=\"right\">\n",
        "<br>\n",
        "<br>\n",
        "<br>\n",
        "<br>\n",
        "<br>\n",
        "\n",
        "# **Expert Systems, Rule‑Based Programming `PyKnown`**\n",
        "---\n"
      ]
    },
    {
      "cell_type": "code",
      "metadata": {
        "id": "rYx9D4GZA5o9",
        "cellView": "form"
      },
      "source": [
        "#@title **Identificação do Grupo**\n",
        "\n",
        "#@markdown Integrantes do Grupo, nome completo em orgem alfabética (*informe \\<RA\\>,\\<nome\\>*)\n",
        "Aluno1 = '10402758, Cesar Hideki Imai' #@param {type:\"string\"}\n",
        "Aluno2 = 'None' #@param {type:\"string\"}\n",
        "Aluno3 = 'None' #@param {type:\"string\"}\n",
        "Aluno4 = 'None' #@param {type:\"string\"}\n",
        "Aluno5 = 'None' #@param {type:\"string\"}\n",
        "\n"
      ],
      "execution_count": 3,
      "outputs": []
    },
    {
      "cell_type": "markdown",
      "source": [
        "# **Resumo**\n",
        "\n",
        "Foi criado um conjunto de regras para 16 jogos digitais, em seguida foram realizadas consultas baseadas em atributos para encontrar jogos que atendam às condições."
      ],
      "metadata": {
        "id": "JlCIc2YooBW7"
      }
    },
    {
      "cell_type": "markdown",
      "source": [
        "# **Implementação**\n",
        "\n"
      ],
      "metadata": {
        "id": "FyFHbT8vygVp"
      }
    },
    {
      "cell_type": "markdown",
      "source": [
        "## **Pacotes**"
      ],
      "metadata": {
        "id": "BngbnKXzjAdu"
      }
    },
    {
      "cell_type": "code",
      "source": [
        "%pip install git+https://github.com/buguroo/pyknow/"
      ],
      "metadata": {
        "id": "47WSkdIDxpjM",
        "colab": {
          "base_uri": "https://localhost:8080/"
        },
        "outputId": "3b8e5fbc-12ea-4b31-b3d1-74c58b3305e8"
      },
      "execution_count": 4,
      "outputs": [
        {
          "output_type": "stream",
          "name": "stdout",
          "text": [
            "Collecting git+https://github.com/buguroo/pyknow/\n",
            "  Cloning https://github.com/buguroo/pyknow/ to /tmp/pip-req-build-oz789bv2\n",
            "  Running command git clone --filter=blob:none --quiet https://github.com/buguroo/pyknow/ /tmp/pip-req-build-oz789bv2\n",
            "  Resolved https://github.com/buguroo/pyknow/ to commit 48818336f2e9a126f1964f2d8dc22d37ff800fe8\n",
            "  Preparing metadata (setup.py) ... \u001b[?25l\u001b[?25hdone\n",
            "Requirement already satisfied: frozendict==1.2 in /usr/local/lib/python3.11/dist-packages (from pyknow==1.7.0) (1.2)\n",
            "Requirement already satisfied: schema==0.6.7 in /usr/local/lib/python3.11/dist-packages (from pyknow==1.7.0) (0.6.7)\n"
          ]
        }
      ]
    },
    {
      "cell_type": "markdown",
      "source": [
        "## **Conjunto de regras**"
      ],
      "metadata": {
        "id": "q9NrDW4QnNQq"
      }
    },
    {
      "cell_type": "code",
      "source": [
        "import collections.abc\n",
        "collections.Mapping = collections.abc.Mapping\n",
        "\n",
        "from pyknow import *\n",
        "\n",
        "class Games(KnowledgeEngine):\n",
        "  @Rule(OR(Fact('casual'), Fact('puzzle'), Fact('adventure'),\n",
        "      AND(Fact('sea'), Fact('animals'))))\n",
        "  def abzu(self):\n",
        "    self.declare(Fact('abzu'))\n",
        "\n",
        "  @Rule(OR(Fact('puzzle'), Fact('strategy'), Fact('terror'),\n",
        "      AND(Fact('animatronics'), Fact('survival'))))\n",
        "  def fnaf(self):\n",
        "    self.declare(Fact(\"five night at freddy's\"))\n",
        "\n",
        "  @Rule(OR(Fact('action'), Fact('competitive'), Fact('shooter'),\n",
        "      AND(Fact('fps'), Fact('multiple playable characters'))))\n",
        "  def valorant(self):\n",
        "    self.declare(Fact('valorant'))\n",
        "\n",
        "  @Rule(OR(Fact('casual'), Fact('sandbox'), Fact('adventure'),\n",
        "      AND(Fact('construction'), Fact('survival'))))\n",
        "  def minecraft(self):\n",
        "    self.declare(Fact('minecraft'))\n",
        "\n",
        "  @Rule(OR(Fact('competitive'), Fact('strategy'), Fact('action'),\n",
        "      AND(Fact('moba'), Fact('multiple playable characters'))))\n",
        "  def lol(self):\n",
        "    self.declare(Fact('league of legends'))\n",
        "\n",
        "  @Rule(OR(Fact('action'), Fact('rpg'), Fact('adventure'),\n",
        "      AND(Fact('hack and slash'), Fact('platformer'))))\n",
        "  def blasphemous(self):\n",
        "    self.declare(Fact('blasphemous'))\n",
        "\n",
        "  @Rule(OR(Fact('casual'), Fact('rpg'), Fact('adventure'),\n",
        "      AND(Fact('hack and slash'), Fact('multiple playable characters'))))\n",
        "  def cc(self):\n",
        "    self.declare(Fact('castle crashers'))\n",
        "\n",
        "  @Rule(OR(Fact('strategy'), Fact('competitive'), Fact('terror'),\n",
        "      AND(Fact('killers'), Fact('multiple playable characters'))))\n",
        "  def dbd(self):\n",
        "    self.declare(Fact('dead by daylight'))\n",
        "\n",
        "  @Rule(OR(Fact('fighting'), Fact('competitive'), Fact('action'),\n",
        "      AND(Fact('platformer'), Fact('multiple playable characters'))))\n",
        "  def brawlhalla(self):\n",
        "    self.declare(Fact('brawlhalla'))\n",
        "\n",
        "  @Rule(OR(Fact('casual'), Fact('sandbox'), Fact('rpg'),\n",
        "      AND(Fact('construction'), Fact('farming'))))\n",
        "  def sv(self):\n",
        "    self.declare(Fact('stardew valley'))\n",
        "\n",
        "  @Rule(OR(Fact('shooter'), Fact('adventure'), Fact('action'),\n",
        "      AND(Fact('twin-stick shooter'), Fact('cyberpunk'))))\n",
        "  def ruiner(self):\n",
        "    self.declare(Fact('ruiner'))\n",
        "\n",
        "  @Rule(OR(Fact('strategy'), Fact('casual'), Fact('puzzle'),\n",
        "      AND(Fact('reaper'), Fact('angels'))))\n",
        "  def dc(self):\n",
        "    self.declare(Fact('death coming'))\n",
        "\n",
        "  @Rule(OR(Fact('rpg'), Fact('shooter'), Fact('action'),\n",
        "      AND(Fact('space'), Fact('multiple playable characters'))))\n",
        "  def warframe(self):\n",
        "    self.declare(Fact('warframe'))\n",
        "\n",
        "  @Rule(OR(Fact('adventure'), Fact('shooter'), Fact('terror'),\n",
        "      AND(Fact('zombies'), Fact('survival'))))\n",
        "  def tlou(self):\n",
        "    self.declare(Fact('the last of us'))\n",
        "\n",
        "  @Rule(OR(Fact('racing'), Fact('casual'), Fact('action'),\n",
        "      AND(Fact('cars'), Fact('arcade'))))\n",
        "  def hct(self):\n",
        "    self.declare(Fact('horizon chase turbo'))\n",
        "\n",
        "  @Rule(OR(Fact('action'), Fact('casual'), Fact('strategy'),\n",
        "      AND(Fact('cooking'), Fact('simulation'))))\n",
        "  def overcooked(self):\n",
        "    self.declare(Fact('overcooked'))\n",
        "\n",
        "  def filter(self, l):\n",
        "      for x in l:\n",
        "          self.declare(x)\n"
      ],
      "metadata": {
        "id": "4wmaZrqImnrQ"
      },
      "execution_count": 17,
      "outputs": []
    },
    {
      "cell_type": "markdown",
      "source": [
        "# **Resultados (Testes)**"
      ],
      "metadata": {
        "id": "vO9xbwBTJDQ7"
      }
    },
    {
      "cell_type": "markdown",
      "source": [
        "## **Teste 1**"
      ],
      "metadata": {
        "id": "54GTlrgPRcst"
      }
    },
    {
      "cell_type": "markdown",
      "source": [
        "Consultar jogos que são casuais"
      ],
      "metadata": {
        "id": "RNVLhlLDRkjm"
      }
    },
    {
      "cell_type": "code",
      "source": [
        "t1 = Games()\n",
        "t1.reset()\n",
        "t1.filter([Fact('casual')])\n",
        "t1.run()\n",
        "t1.facts"
      ],
      "metadata": {
        "id": "mVf_l2YTJPXY",
        "colab": {
          "base_uri": "https://localhost:8080/"
        },
        "outputId": "719c1d86-02f9-4f7b-bcc5-a2f43c482aab"
      },
      "execution_count": 18,
      "outputs": [
        {
          "output_type": "execute_result",
          "data": {
            "text/plain": [
              "FactList([(0, InitialFact()),\n",
              "          (1, Fact('casual')),\n",
              "          (2, Fact('abzu')),\n",
              "          (3, Fact('stardew valley')),\n",
              "          (4, Fact('castle crashers')),\n",
              "          (5, Fact('overcooked')),\n",
              "          (6, Fact('death coming')),\n",
              "          (7, Fact('horizon chase turbo')),\n",
              "          (8, Fact('minecraft'))])"
            ]
          },
          "metadata": {},
          "execution_count": 18
        }
      ]
    },
    {
      "cell_type": "markdown",
      "source": [
        "## **Teste 2**"
      ],
      "metadata": {
        "id": "ygyc_22aRpLf"
      }
    },
    {
      "cell_type": "markdown",
      "source": [
        "Consultando jogos que são de ação ou RPG"
      ],
      "metadata": {
        "id": "mb7U0SjeRsFT"
      }
    },
    {
      "cell_type": "code",
      "source": [
        "t2 = Games()\n",
        "t2.reset()\n",
        "t2.filter([Fact('action'), Fact('rpg')])\n",
        "t2.run()\n",
        "t2.facts"
      ],
      "metadata": {
        "colab": {
          "base_uri": "https://localhost:8080/"
        },
        "id": "AA3HielzRYqY",
        "outputId": "f917277b-6a77-4529-e136-7bfb437c1f5b"
      },
      "execution_count": 20,
      "outputs": [
        {
          "output_type": "execute_result",
          "data": {
            "text/plain": [
              "FactList([(0, InitialFact()),\n",
              "          (1, Fact('action')),\n",
              "          (2, Fact('rpg')),\n",
              "          (3, Fact('stardew valley')),\n",
              "          (4, Fact('castle crashers')),\n",
              "          (5, Fact('warframe')),\n",
              "          (6, Fact('blasphemous')),\n",
              "          (7, Fact('valorant')),\n",
              "          (8, Fact('ruiner')),\n",
              "          (9, Fact('league of legends')),\n",
              "          (10, Fact('overcooked')),\n",
              "          (11, Fact('brawlhalla')),\n",
              "          (12, Fact('horizon chase turbo'))])"
            ]
          },
          "metadata": {},
          "execution_count": 20
        }
      ]
    },
    {
      "cell_type": "markdown",
      "source": [
        "# **Referências**\n",
        "\n",
        "- Notas de aula\n",
        "- https://github.com/buguroo/pyknow/"
      ],
      "metadata": {
        "id": "7LtXrRFr4hg3"
      }
    },
    {
      "cell_type": "markdown",
      "metadata": {
        "id": "8crUBC3IQ3U_"
      },
      "source": [
        "---"
      ]
    },
    {
      "cell_type": "code",
      "metadata": {
        "id": "BluFtfHuCGzm",
        "cellView": "form"
      },
      "source": [
        "#@title **Avaliação**\n",
        "Resumo = 10 #@param {type:\"slider\", min:0, max:10, step:1}\n",
        "\n",
        "Implementacao = 9 #@param {type:\"slider\", min:0, max:10, step:1}\n",
        "\n",
        "Resultados = 6 #@param {type:\"slider\", min:0, max:10, step:1}\n",
        "\n",
        "Referencias = 7 #@param {type:\"slider\", min:0, max:10, step:1}\n",
        "\n",
        "Geral = 7 #@param {type:\"slider\", min:0, max:10, step:1}\n",
        "\n",
        "\n",
        "\n",
        "\n",
        "\n",
        "\n"
      ],
      "execution_count": null,
      "outputs": []
    },
    {
      "cell_type": "code",
      "metadata": {
        "id": "2Gqw7hUZHyle",
        "cellView": "form"
      },
      "source": [
        "#@title **Nota Final**\n",
        "nota = Resumo + Implementacao + Resultados + Referencias + Geral\n",
        "\n",
        "nota = nota / 5\n",
        "\n",
        "print(f'Nota final do trabalho {nota :.1f}')\n",
        "\n",
        "import numpy as np\n",
        "import pandas as pd\n",
        "\n",
        "alunos = pd.DataFrame()\n",
        "\n",
        "lista_tia = []\n",
        "lista_nome = []\n",
        "\n",
        "for i in range(1,6):\n",
        "  exec(\"if Aluno\" + str(i) + \" !='None':  lista = Aluno\" + str(i) + \".split(','); lista_tia.append(lista[0]); lista_nome.append(lista[1].upper())\")\n",
        "\n",
        "alunos['tia'] = lista_tia\n",
        "alunos['nome'] = lista_nome\n",
        "alunos['nota'] = np.round(nota,1)\n",
        "print()\n",
        "display(alunos)"
      ],
      "execution_count": null,
      "outputs": []
    }
  ]
}